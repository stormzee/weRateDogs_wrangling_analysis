{
 "cells": [
  {
   "cell_type": "markdown",
   "metadata": {},
   "source": [
    "## Analysis Report On WeRateDogs Twitter Archive Dataset.\n",
    "By: Samuel Addo Oppong.<br>\n",
    "Date: September 4, 2022.\n",
    "<br>\n",
    "\n",
    "In this project, data was gathered from 3 different sources and thoroughly cleaned and put together to form a single dataset. The final twitter archives master dataset had features like favourite count, retweet count, tweet text, dog type, image url, prediction for the images and their confidence percentages and more.\n",
    "In my analysis, the main features of interest were date of the tweet, day of tweet, rating, algorithm's dog breed prediction ability and short falls. \n",
    "It was found that, the WeRateDogs' algorithm/platform is busy during working days as compared to weekends since more dog ratings are done from Monday to Friday and then lessens from Saturday to Sunday. Also, for one reason or another, ratings on Sundays and Tuesdays are much higher as compared to other days. This could be a way to trick to getting one's dog a higher rating or it could also be that, dog images rated on these days are much nicer as compared to the other days. Again, the most common dog breeds that the algorithm is capable of predicting are golden retriever, Labrador retriever, Pembroke, Chihuahua, pug, chow, Samoyed, Pomeranian, toy poodle, malamute. It won't be entirely the algorithm's prediction ability but the bias in the number of images sent to the rating system can also account for the high number of certain breed of dogs. Then again, it was seen that, although the aforementioned mentioned dog breeds are the most popular, not all of them got a higher rating. Soft-coated wheaten terrier, West Highland white terrier, Great Pyrenees, borzoi, Labrador retriever, golden retriever, Siberian husky, Saluki, briard, Tibetan mastiff are among the topmost rated dog breeds. Here, it can be seen only the Labrador retriever, golden retriever were able to make the list of top 10 dog breeds with the highest ratings although they're part of the most popular/common breeds.\n",
    "Comparing the retweet and favorite counts of various tweets present in the dataset, it was revealed that there is some sort of gradual increase in both retweet and favorite counts over time. The figure below shows the slight variability of retweet and favorite counts over time with the presence of few large values termed as outliers."
   ]
  },
  {
   "cell_type": "code",
   "execution_count": 1,
   "metadata": {},
   "outputs": [
    {
     "data": {
      "text/html": [
       "<img src=\"favorite and retweet count over time.png\" width=\"500\" height=\"500\"/>"
      ],
      "text/plain": [
       "<IPython.core.display.Image object>"
      ]
     },
     "execution_count": 1,
     "metadata": {},
     "output_type": "execute_result"
    }
   ],
   "source": [
    "from IPython.display import Image\n",
    "  \n",
    "# get the image\n",
    "Image(url=\"favorite and retweet count over time.png\", width=500, height=500)"
   ]
  }
 ],
 "metadata": {
  "kernelspec": {
   "display_name": "Python 3",
   "language": "python",
   "name": "python3"
  },
  "language_info": {
   "codemirror_mode": {
    "name": "ipython",
    "version": 3
   },
   "file_extension": ".py",
   "mimetype": "text/x-python",
   "name": "python",
   "nbconvert_exporter": "python",
   "pygments_lexer": "ipython3",
   "version": "3.6.3"
  }
 },
 "nbformat": 4,
 "nbformat_minor": 2
}
